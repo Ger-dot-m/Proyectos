{
 "cells": [
  {
   "cell_type": "markdown",
   "metadata": {},
   "source": [
    "# Modelo de Markowitz\n",
    "Consideramos un problema de cartera clásico con n activos o acciones mantenidos a lo largo de un período de tiempo. Permitimos que $x_i$ denote la cantidad de activo $i$ mantenida durante todo el período, con $x_i$ en dólares, al precio al inicio del período. Una posición larga normal en el activo $i$ corresponde a $x_i > 0$; una posición corta en el activo $i$ (es decir, la obligación de comprar el activo al final del período) corresponde a $x_i < 0$. Permitimos que $p_i$ denote el cambio relativo en el precio del activo $i$ durante el período, es decir, su cambio de precio durante el período dividido por su precio al inicio del período. El rendimiento total de la cartera es $r = p^T x$ (expresado en dólares). La variable de optimización es el vector de la cartera $x \\in \\mathbb{R}^n$.\n",
    "Se pueden considerar una amplia variedad de restricciones en la cartera. El conjunto más simple de restricciones es que $xi \\geq 0$ (es decir, no se permiten posiciones cortas) y $1^T x = B$ (es decir, el presupuesto total a invertir es B, que a menudo se toma como uno).\n",
    "\n",
    "Tomamos un modelo estocástico para los cambios de precio: $p \\in \\mathbb{R}^n$ es un vector aleatorio, con una media conocida $\\bar{p}$ y una covarianza $\\Sigma$. Por lo tanto, con una cartera $x \\in \\mathbb{R}^n$, el rendimiento $r$ es una variable aleatoria (escalar) con una media de $\\bar{p}^Tx$ x y una varianza $x^T\\Sigma x$. La elección de la cartera $x$ implica un equilibrio entre la media del rendimiento y su varianza.\n",
    "\n",
    "Así, el modelo de optimización cuadrática de Markowitz es\n",
    "$$\\begin{matrix}\n",
    "\\text{minimizar} & x^T\\Sigma x \\\\\n",
    "\\text{sujeto a}  & \\bar{p}^Tx \\geq r_\\text{min} \\\\\n",
    "\\text{} & 1^Tx=1, & x \\succ 0\n",
    "\\end{matrix}$$"
   ]
  },
  {
   "cell_type": "code",
   "execution_count": 1,
   "metadata": {},
   "outputs": [],
   "source": [
    "import numpy as np\n",
    "import datetime as dt\n",
    "import yfinance as yf\n",
    "from scipy import optimize as opt"
   ]
  },
  {
   "cell_type": "markdown",
   "metadata": {},
   "source": [
    "En particular, se definen las variables $m \\in \\mathbb{R}^3, \\Sigma \\in \\mathbb{R}^{3\\times3}$"
   ]
  },
  {
   "cell_type": "code",
   "execution_count": 2,
   "metadata": {},
   "outputs": [
    {
     "name": "stdout",
     "output_type": "stream",
     "text": [
      "[*********************100%%**********************]  3 of 3 completed\n",
      "BHP.AX    0.000671\n",
      "CBA.AX    0.000451\n",
      "TLS.AX    0.000046\n",
      "dtype: float64           BHP.AX    CBA.AX    TLS.AX\n",
      "BHP.AX  0.000255  0.000040 -0.000002\n",
      "CBA.AX  0.000040  0.000118  0.000026\n",
      "TLS.AX -0.000002  0.000026  0.000071\n"
     ]
    }
   ],
   "source": [
    "def getData(stocks, start, end):\n",
    "    stockData = yf.download(stocks, start=start, end=end)['Close']\n",
    "    returns = stockData.pct_change()\n",
    "    meanReturns = returns.mean()\n",
    "    covMatrix = returns.cov()\n",
    "    return meanReturns, covMatrix\n",
    "\n",
    "stockList = [\"CBA.AX\", \"BHP.AX\", \"TLS.AX\"]\n",
    "stocks = [stock for stock in stockList]\n",
    "\n",
    "endDate = dt.datetime.now()\n",
    "startDate = endDate - dt.timedelta(days=365)\n",
    "meanReturns, covMatrix = getData(stocks=stocks, start=startDate, end=endDate)\n",
    "print(meanReturns, covMatrix)"
   ]
  },
  {
   "cell_type": "code",
   "execution_count": 3,
   "metadata": {},
   "outputs": [
    {
     "name": "stdout",
     "output_type": "stream",
     "text": [
      "0.08945406107035113 0.12060890628561223\n"
     ]
    }
   ],
   "source": [
    "def portfolioPerformance(weights: np.array, meanReturns, covMatrix: np.array):\n",
    "    factor = np.sqrt(252)\n",
    "    returns = np.sum(meanReturns*weights)*factor**2\n",
    "    std = np.sqrt(weights.T @ covMatrix @ weights)*factor\n",
    "    return returns, std\n",
    "\n",
    "weights = np.array([0.3, 0.3, 0.4])\n",
    "returns, std = portfolioPerformance(weights, meanReturns, covMatrix)\n",
    "print(returns, std) "
   ]
  },
  {
   "cell_type": "markdown",
   "metadata": {},
   "source": [
    "Se define el problema de optimización\n",
    "$$\\begin{matrix}\n",
    "\\text{minimizar} & -\\frac{m^Tw - r_0}{w^T\\Sigma w} \\\\\n",
    "\\text{sujeto a}  & 1^Tw=1, & w \\succeq 0\n",
    "\\end{matrix}$$\n",
    "\n",
    "Donde $f_0(w) = \\frac{m^Tw - r_0}{w^T\\Sigma w}$ es concavo y $-f_0$ es convexo. Se intuye que $\\Sigma \\succeq 0$."
   ]
  },
  {
   "cell_type": "code",
   "execution_count": 4,
   "metadata": {},
   "outputs": [
    {
     "name": "stdout",
     "output_type": "stream",
     "text": [
      " message: Optimization terminated successfully\n",
      " success: True\n",
      "  status: 0\n",
      "     fun: -0.8458203031697065\n",
      "       x: [ 4.096e-01  5.904e-01  1.897e-17]\n",
      "     nit: 4\n",
      "     jac: [-6.548e-05  4.540e-05  4.541e-02]\n",
      "    nfev: 16\n",
      "    njev: 4\n"
     ]
    }
   ],
   "source": [
    "def negativeSR(weights, meanReturns, covMatrix, riskFreeRate=0):\n",
    "    \"\"\"\n",
    "    Calcula la proporción negativa del índice de Sharpe para una cartera de activos dados.\n",
    "    \"\"\"\n",
    "    pReturns, pStd = portfolioPerformance(weights, meanReturns, covMatrix)\n",
    "    return - (pReturns - riskFreeRate) / pStd\n",
    "\n",
    "def maxSR(meanReturns, covMatrix, riskFreeRate=0, constraintSet=(0, 1)):\n",
    "    \"\"\"\n",
    "    Encuentra la cartera de activos que maximiza el índice de Sharpe.\n",
    "\n",
    "    Retorna:\n",
    "    scipy.optimize.OptimizeResult: El resultado de la optimización que contiene los pesos óptimos.\n",
    "    \"\"\"\n",
    "    numAssets = len(meanReturns)\n",
    "    args = (meanReturns, covMatrix, riskFreeRate)\n",
    "    constraints = ({'type': 'eq', 'fun': lambda x: np.sum(x) - 1})  # Restricción de suma de pesos igual a 1\n",
    "    bound = constraintSet\n",
    "    bounds = tuple(bound for asset in range(numAssets))\n",
    "    result = opt.minimize(fun=negativeSR, x0=numAssets * [1. / numAssets], args=args,\n",
    "                        method='SLSQP', bounds=bounds, constraints=constraints)\n",
    "    return result\n",
    "\n",
    "result = maxSR(meanReturns, covMatrix)\n",
    "print(result)"
   ]
  },
  {
   "cell_type": "code",
   "execution_count": 5,
   "metadata": {},
   "outputs": [
    {
     "name": "stdout",
     "output_type": "stream",
     "text": [
      " message: Optimization terminated successfully\n",
      " success: True\n",
      "  status: 0\n",
      "     fun: 0.11096650978387466\n",
      "       x: [ 1.615e-01  2.266e-01  6.119e-01]\n",
      "     nit: 8\n",
      "     jac: [ 1.111e-01  1.109e-01  1.110e-01]\n",
      "    nfev: 32\n",
      "    njev: 8\n"
     ]
    }
   ],
   "source": [
    "def portfolioVariance(weights, meanReturns, covMatrix):\n",
    "    \"\"\"\n",
    "    Calcula la varianza de una cartera de activos dados.\n",
    "\n",
    "    Retorna:\n",
    "    float: La varianza de la cartera.\n",
    "    \"\"\"\n",
    "    return portfolioPerformance(weights, meanReturns, covMatrix)[1]\n",
    "\n",
    "def minimizeVariance(meanReturns, covMatrix, constraintSet=(0, 1)):\n",
    "    \"\"\"\n",
    "    Encuentra la cartera de activos que minimiza la varianza.\n",
    "\n",
    "    Retorna:\n",
    "    scipy.optimize.OptimizeResult: El resultado de la optimización que contiene los pesos óptimos.\n",
    "    \"\"\"\n",
    "    numAssets = len(meanReturns)\n",
    "    args = (meanReturns, covMatrix)\n",
    "    constraints = ({'type': 'eq', 'fun': lambda x: np.sum(x) - 1})  # Restricción de suma de pesos igual a 1\n",
    "    bound = constraintSet\n",
    "    bounds = tuple(bound for asset in range(numAssets))\n",
    "    result = opt.minimize(portfolioVariance, numAssets * [1. / numAssets], args=args,\n",
    "                        method='SLSQP', bounds=bounds, constraints=constraints)\n",
    "    return result\n",
    "\n",
    "result = minimizeVariance(meanReturns, covMatrix)\n",
    "print(result)"
   ]
  },
  {
   "cell_type": "markdown",
   "metadata": {},
   "source": [
    "$$\n",
    "\\begin{matrix}\n",
    "\\text{minimizar} & w^T\\Sigma w \\\\\n",
    "\\text{sujeto a}  & m^Tw - R_0 \\\\\n",
    "\\text{} & 1^Tw=1, & w \\succeq 0\n",
    "\\end{matrix}\n",
    "$$"
   ]
  },
  {
   "cell_type": "code",
   "execution_count": 6,
   "metadata": {},
   "outputs": [],
   "source": [
    "def portfolioReturn(weights, meanReturns, covMatrix):\n",
    "        return portfolioPerformance(weights, meanReturns, covMatrix)[0]\n",
    "\n",
    "\n",
    "def efficientOpt(meanReturns, covMatrix, returnTarget, constraintSet=(0,1)):\n",
    "    \"\"\"For each returnTarget, we want to optimise the portfolio for min variance\"\"\"\n",
    "    numAssets = len(meanReturns)\n",
    "    args = (meanReturns, covMatrix)\n",
    "\n",
    "    constraints = ({'type':'eq', 'fun': lambda x: portfolioReturn(x, meanReturns, covMatrix) - returnTarget},\n",
    "                    {'type': 'eq', 'fun': lambda x: np.sum(x) - 1})\n",
    "    bound = constraintSet\n",
    "    bounds = tuple(bound for asset in range(numAssets))\n",
    "    effOpt = opt.minimize(portfolioVariance, numAssets*[1./numAssets], args=args, method = 'SLSQP', bounds=bounds, constraints=constraints)\n",
    "    return effOpt"
   ]
  },
  {
   "cell_type": "markdown",
   "metadata": {},
   "source": [
    "A partir de los problemas de optimización planteados, se obtiene información significativa"
   ]
  },
  {
   "cell_type": "code",
   "execution_count": 7,
   "metadata": {},
   "outputs": [],
   "source": [
    "import pandas as pd\n",
    "\n",
    "def calculatedResults(meanReturns, covMatrix, riskFreeRate=0, constraintSet=(0,1)):\n",
    "    \"\"\"\n",
    "    Calcula resultados clave de una cartera de activos, incluyendo el portafolio con el mayor índice de Sharpe,\n",
    "    el portafolio con la menor volatilidad, y la frontera eficiente.\n",
    "\n",
    "    Parámetros:\n",
    "    - meanReturns (pandas.Series): Tasas de retorno esperadas de los activos.\n",
    "    - covMatrix (pandas.DataFrame): Matriz de covarianza de los activos.\n",
    "    - riskFreeRate (float, opcional): Tasa libre de riesgo, por defecto es 0.\n",
    "    - constraintSet (tuple, opcional): Conjunto de restricciones para los pesos de la cartera.\n",
    "\n",
    "    Retorna:\n",
    "    tuple: Una tupla que contiene los siguientes elementos:\n",
    "        - maxSR_returns (float): Retorno del portafolio con el mayor índice de Sharpe.\n",
    "        - maxSR_std (float): Desviación estándar (volatilidad) del portafolio con el mayor índice de Sharpe.\n",
    "        - maxSR_allocation (pandas.DataFrame): Asignación de activos en el portafolio con el mayor índice de Sharpe.\n",
    "        - minVol_returns (float): Retorno del portafolio con la menor volatilidad.\n",
    "        - minVol_std (float): Desviación estándar (volatilidad) del portafolio con la menor volatilidad.\n",
    "        - minVol_allocation (pandas.DataFrame): Asignación de activos en el portafolio con la menor volatilidad.\n",
    "        - efficientList (list): Lista de valores de volatilidad para diferentes niveles de retorno en la frontera eficiente.\n",
    "    \"\"\"\n",
    "     \n",
    "    # Max Sharpe Ratio Portfolio\n",
    "    maxSR_Portfolio = maxSR(meanReturns, covMatrix)\n",
    "    maxSR_returns, maxSR_std = portfolioPerformance(maxSR_Portfolio['x'], meanReturns, covMatrix)\n",
    "    maxSR_returns, maxSR_std = round(maxSR_returns * 100, 2), round(maxSR_std * 100, 2)\n",
    "    maxSR_allocation = pd.DataFrame(maxSR_Portfolio['x'], index=meanReturns.index, columns=['allocation'])\n",
    "    maxSR_allocation.allocation = [round(i * 100, 0) for i in maxSR_allocation.allocation]\n",
    "    \n",
    "    # Min Volatility Portfolio\n",
    "    minVol_Portfolio = minimizeVariance(meanReturns, covMatrix)\n",
    "    minVol_returns, minVol_std = portfolioPerformance(minVol_Portfolio['x'], meanReturns, covMatrix)\n",
    "    minVol_returns, minVol_std = round(minVol_returns * 100, 2), round(minVol_std * 100, 2)\n",
    "    minVol_allocation = pd.DataFrame(minVol_Portfolio['x'], index=meanReturns.index, columns=['allocation'])\n",
    "    minVol_allocation.allocation = [round(i * 100, 0) for i in minVol_allocation.allocation]\n",
    "\n",
    "    # Efficient Frontier\n",
    "    efficientList = []\n",
    "    targetReturns = np.linspace(minVol_returns, maxSR_returns, 20)\n",
    "    for target in targetReturns:\n",
    "        efficientList.append(efficientOpt(meanReturns, covMatrix, target)['fun'])\n",
    "\n",
    "    return maxSR_returns, maxSR_std, maxSR_allocation, minVol_returns, minVol_std, minVol_allocation, efficientList\n"
   ]
  },
  {
   "cell_type": "code",
   "execution_count": 17,
   "metadata": {},
   "outputs": [],
   "source": [
    "maxSR_returns, maxSR_std, maxSR_allocation, minVol_returns, minVol_std, minVol_allocation, efficientList = calculatedResults(meanReturns, covMatrix)"
   ]
  },
  {
   "cell_type": "code",
   "execution_count": 18,
   "metadata": {},
   "outputs": [
    {
     "name": "stdout",
     "output_type": "stream",
     "text": [
      "Resultados del Portafolio con el Mayor Índice de Sharpe:\n",
      "Retorno esperado: 13.64 %\n",
      "Volatilidad (Desviación estándar): 16.12 %\n",
      "Asignación de activos en el Portafolio con Mayor Sharpe:\n",
      "        allocation\n",
      "BHP.AX        41.0\n",
      "CBA.AX        59.0\n",
      "TLS.AX         0.0\n"
     ]
    }
   ],
   "source": [
    "print(\"Resultados del Portafolio con el Mayor Índice de Sharpe:\")\n",
    "print(\"Retorno esperado:\", maxSR_returns, \"%\")\n",
    "print(\"Volatilidad (Desviación estándar):\", maxSR_std, \"%\")\n",
    "print(\"Asignación de activos en el Portafolio con Mayor Sharpe:\")\n",
    "print(maxSR_allocation)"
   ]
  },
  {
   "cell_type": "code",
   "execution_count": 19,
   "metadata": {},
   "outputs": [
    {
     "name": "stdout",
     "output_type": "stream",
     "text": [
      "\n",
      "Resultados del Portafolio con la Menor Volatilidad:\n",
      "Retorno esperado: 6.01 %\n",
      "Volatilidad (Desviación estándar): 11.1 %\n",
      "Asignación de activos en el Portafolio con Menor Volatilidad:\n",
      "        allocation\n",
      "BHP.AX        16.0\n",
      "CBA.AX        23.0\n",
      "TLS.AX        61.0\n"
     ]
    }
   ],
   "source": [
    "print(\"\\nResultados del Portafolio con la Menor Volatilidad:\")\n",
    "print(\"Retorno esperado:\", minVol_returns, \"%\")\n",
    "print(\"Volatilidad (Desviación estándar):\", minVol_std, \"%\")\n",
    "print(\"Asignación de activos en el Portafolio con Menor Volatilidad:\")\n",
    "print(minVol_allocation)\n"
   ]
  },
  {
   "cell_type": "code",
   "execution_count": 20,
   "metadata": {},
   "outputs": [
    {
     "name": "stdout",
     "output_type": "stream",
     "text": [
      "\n",
      "Resultados de la Frontera Eficiente:\n",
      "Niveles de Retorno Objetivo:\n",
      "[ 6.01        6.41157895  6.81315789  7.21473684  7.61631579  8.01789474\n",
      "  8.41947368  8.82105263  9.22263158  9.62421053 10.02578947 10.42736842\n",
      " 10.82894737 11.23052632 11.63210526 12.03368421 12.43526316 12.83684211\n",
      " 13.23842105 13.64      ]\n",
      "Volatilidad correspondiente a los Niveles de Retorno Objetivo:\n",
      "[0.25357983726961897, 0.25357983726957367, 0.25357983726972894, 0.25357983727040634, 0.2535798372696585, 0.2535800811992366, 0.2535798372695801, 0.2535798372700303, 0.253579839239382, 0.25357983726954664, 0.25357983727097433, 0.2535798372700308, 0.25357983727018707, 0.25357983726964073, 0.25357983726953814, 0.25357983726965544, 0.253579837269671, 0.25357983726954136, 0.25357983727048306, 0.2535798373537825]\n"
     ]
    }
   ],
   "source": [
    "print(\"\\nResultados de la Frontera Eficiente:\")\n",
    "print(\"Niveles de Retorno Objetivo:\")\n",
    "print(np.linspace(minVol_returns, maxSR_returns, 20))\n",
    "print(\"Volatilidad correspondiente a los Niveles de Retorno Objetivo:\")\n",
    "print(efficientList)"
   ]
  }
 ],
 "metadata": {
  "kernelspec": {
   "display_name": "DataScience",
   "language": "python",
   "name": "python3"
  },
  "language_info": {
   "codemirror_mode": {
    "name": "ipython",
    "version": 3
   },
   "file_extension": ".py",
   "mimetype": "text/x-python",
   "name": "python",
   "nbconvert_exporter": "python",
   "pygments_lexer": "ipython3",
   "version": "3.8.18"
  },
  "orig_nbformat": 4
 },
 "nbformat": 4,
 "nbformat_minor": 2
}
